{
 "cells": [
  {
   "cell_type": "code",
   "execution_count": 2,
   "metadata": {},
   "outputs": [
    {
     "name": "stdout",
     "output_type": "stream",
     "text": [
      "Requirement already satisfied: openpyxl in /Users/harrycslau/miniconda3/envs/fxlab/lib/python3.10/site-packages (3.1.5)\n",
      "Requirement already satisfied: et-xmlfile in /Users/harrycslau/miniconda3/envs/fxlab/lib/python3.10/site-packages (from openpyxl) (2.0.0)\n"
     ]
    }
   ],
   "source": [
    "!pip install openpyxl"
   ]
  },
  {
   "cell_type": "code",
   "execution_count": null,
   "metadata": {},
   "outputs": [
    {
     "name": "stdout",
     "output_type": "stream",
     "text": [
      "Processed 191 rows of data and saved to maptrade/maptrade_with_maxddpos_maxfppos.xlsx\n"
     ]
    }
   ],
   "source": [
    "import os\n",
    "import pandas as pd\n",
    "from dotenv import load_dotenv\n",
    "from tvDatafeed import TvDatafeedLive, Interval\n",
    "\n",
    "# Load environment variables from .env file\n",
    "load_dotenv()\n",
    "\n",
    "# Retrieve TradingView credentials from environment variables\n",
    "username = os.environ.get(\"TRADINGVIEW_USERNAME\")\n",
    "password = os.environ.get(\"TRADINGVIEW_PASSWORD\")\n",
    "\n",
    "# Initialize TradingView live data feed\n",
    "tv = TvDatafeedLive(username, password)\n",
    "\n",
    "# Define interval dictionary\n",
    "interval_tf = {\n",
    "    'M1': Interval.in_1_minute,\n",
    "    'M5': Interval.in_5_minute,\n",
    "    'M15': Interval.in_15_minute,\n",
    "    'H1': Interval.in_1_hour,\n",
    "    'H4': Interval.in_4_hour,\n",
    "    'D1': Interval.in_daily\n",
    "}\n",
    "\n",
    "# Step 1: Read the Excel file\n",
    "raw_df = pd.read_excel(\"maptrade/maptrade.xlsx\")\n",
    "\n",
    "# Convert Time1 and Time2 columns to datetime with the correct format\n",
    "raw_df[\"Time1\"] = pd.to_datetime(raw_df[\"Time1\"], format=\"%Y.%m.%d %H:%M:%S\")\n",
    "raw_df[\"Time2\"] = pd.to_datetime(raw_df[\"Time2\"], format=\"%Y.%m.%d %H:%M:%S\")\n",
    "\n",
    "# Step 2: Find unique symbols\n",
    "symbols = raw_df[\"Symbol\"].unique()\n",
    "\n",
    "# Prepare new columns for MaxDDpos and MaxFPpos\n",
    "raw_df[\"MaxDDpos\"] = None\n",
    "raw_df[\"MaxFPpos\"] = None\n",
    "\n",
    "# Define a helper function to get M1 data from TradingView for a given symbol\n",
    "def get_symbol_data(symbol, timeframe='M1', bars=4500):\n",
    "    # Fetch historical data for the symbol\n",
    "    data = tv.get_hist(\n",
    "        symbol=symbol,\n",
    "        exchange='ICMARKETS',\n",
    "        interval=interval_tf[timeframe],\n",
    "        n_bars=bars\n",
    "    )\n",
    "    # Ensure the index is datetime and sorted\n",
    "    data = data.sort_index()\n",
    "    return data\n",
    "\n",
    "# Step 3: Iterate through each symbol, retrieve data, and calculate both MaxDDpos & MaxFPpos\n",
    "for symbol in symbols:\n",
    "    # 3.2: Retrieve M1 data for the symbol\n",
    "    symbol_data = get_symbol_data(symbol, timeframe='M1')\n",
    "\n",
    "    # Filter trades for that symbol\n",
    "    symbol_trades = raw_df[raw_df[\"Symbol\"] == symbol]\n",
    "\n",
    "    # 3.3: Iterate each trade and calculate both columns where applicable\n",
    "    for idx, trade in symbol_trades.iterrows():\n",
    "        trade_result = trade[\"Result\"]\n",
    "        trade_type = trade[\"Type\"]\n",
    "        start_time = trade[\"Time1\"]\n",
    "        end_time = trade[\"Time2\"]\n",
    "\n",
    "        # Slice the symbol_data between start_time and end_time\n",
    "        period_data = symbol_data.loc[start_time:end_time]\n",
    "\n",
    "        if period_data.empty:\n",
    "            continue\n",
    "\n",
    "        # Determine MaxDDpos (for TP and BE)\n",
    "        if trade_result in [\"TP\", \"BE\"]:\n",
    "            if trade_type == \"buy\":\n",
    "                max_dd = period_data[\"low\"].min()  # For buy: min low\n",
    "            else:\n",
    "                max_dd = period_data[\"high\"].max()  # For sell: max high\n",
    "            raw_df.at[idx, \"MaxDDpos\"] = max_dd\n",
    "\n",
    "        # Determine MaxFPpos (for SL and BE)\n",
    "        if trade_result in [\"SL\", \"BE\"]:\n",
    "            if trade_type == \"buy\":\n",
    "                max_fp = period_data[\"high\"].max()  # For buy: max high\n",
    "            else:\n",
    "                max_fp = period_data[\"low\"].min()   # For sell: min low\n",
    "            raw_df.at[idx, \"MaxFPpos\"] = max_fp\n",
    "\n",
    "# After processing all symbols and trades, raw_df will have the updated columns\n",
    "# Step 4: Save the updated DataFrame to a new Excel file\n",
    "output_file = \"maptrade/maptrade_with_maxddpos_maxfppos.xlsx\"\n",
    "raw_df.to_excel(output_file, index=False)\n",
    "\n",
    "# Print how many rows of data processed\n",
    "print(f\"Processed {len(raw_df)} rows of data and saved to {output_file}\")\n"
   ]
  }
 ],
 "metadata": {
  "kernelspec": {
   "display_name": "fxlab",
   "language": "python",
   "name": "python3"
  },
  "language_info": {
   "codemirror_mode": {
    "name": "ipython",
    "version": 3
   },
   "file_extension": ".py",
   "mimetype": "text/x-python",
   "name": "python",
   "nbconvert_exporter": "python",
   "pygments_lexer": "ipython3",
   "version": "3.10.13"
  }
 },
 "nbformat": 4,
 "nbformat_minor": 2
}
