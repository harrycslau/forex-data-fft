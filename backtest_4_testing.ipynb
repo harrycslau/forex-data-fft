{
 "cells": [
  {
   "cell_type": "code",
   "execution_count": 3,
   "metadata": {},
   "outputs": [
    {
     "name": "stdout",
     "output_type": "stream",
     "text": [
      "Found existing installation: lucit-backtesting 1.0.0\n",
      "Uninstalling lucit-backtesting-1.0.0:\n",
      "  Would remove:\n",
      "    /Users/harrycslau/miniconda3/envs/fxlab/lib/python3.10/site-packages/lucit_backtesting-1.0.0.dist-info/*\n",
      "Proceed (Y/n)? ^C\n",
      "\u001b[31mERROR: Operation cancelled by user\u001b[0m\u001b[31m\n",
      "\u001b[0mRequirement already satisfied: lucit-backtesting in /Users/harrycslau/miniconda3/envs/fxlab/lib/python3.10/site-packages (1.0.0)\n",
      "Requirement already satisfied: numpy>=1.17.0 in /Users/harrycslau/miniconda3/envs/fxlab/lib/python3.10/site-packages (from lucit-backtesting) (1.26.4)\n",
      "Requirement already satisfied: pandas!=0.25.0,>=0.25.0 in /Users/harrycslau/miniconda3/envs/fxlab/lib/python3.10/site-packages (from lucit-backtesting) (2.2.2)\n",
      "Requirement already satisfied: bokeh==2.4.3 in /Users/harrycslau/miniconda3/envs/fxlab/lib/python3.10/site-packages (from lucit-backtesting) (2.4.3)\n",
      "Requirement already satisfied: Jinja2>=2.9 in /Users/harrycslau/miniconda3/envs/fxlab/lib/python3.10/site-packages (from bokeh==2.4.3->lucit-backtesting) (3.1.4)\n",
      "Requirement already satisfied: packaging>=16.8 in /Users/harrycslau/miniconda3/envs/fxlab/lib/python3.10/site-packages (from bokeh==2.4.3->lucit-backtesting) (24.1)\n",
      "Requirement already satisfied: pillow>=7.1.0 in /Users/harrycslau/miniconda3/envs/fxlab/lib/python3.10/site-packages (from bokeh==2.4.3->lucit-backtesting) (11.0.0)\n",
      "Requirement already satisfied: PyYAML>=3.10 in /Users/harrycslau/miniconda3/envs/fxlab/lib/python3.10/site-packages (from bokeh==2.4.3->lucit-backtesting) (6.0.2)\n",
      "Requirement already satisfied: tornado>=5.1 in /Users/harrycslau/miniconda3/envs/fxlab/lib/python3.10/site-packages (from bokeh==2.4.3->lucit-backtesting) (6.4.1)\n",
      "Requirement already satisfied: typing-extensions>=3.10.0 in /Users/harrycslau/miniconda3/envs/fxlab/lib/python3.10/site-packages (from bokeh==2.4.3->lucit-backtesting) (4.12.2)\n",
      "Requirement already satisfied: python-dateutil>=2.8.2 in /Users/harrycslau/miniconda3/envs/fxlab/lib/python3.10/site-packages (from pandas!=0.25.0,>=0.25.0->lucit-backtesting) (2.9.0)\n",
      "Requirement already satisfied: pytz>=2020.1 in /Users/harrycslau/miniconda3/envs/fxlab/lib/python3.10/site-packages (from pandas!=0.25.0,>=0.25.0->lucit-backtesting) (2024.1)\n",
      "Requirement already satisfied: tzdata>=2022.7 in /Users/harrycslau/miniconda3/envs/fxlab/lib/python3.10/site-packages (from pandas!=0.25.0,>=0.25.0->lucit-backtesting) (2024.1)\n",
      "Requirement already satisfied: MarkupSafe>=2.0 in /Users/harrycslau/miniconda3/envs/fxlab/lib/python3.10/site-packages (from Jinja2>=2.9->bokeh==2.4.3->lucit-backtesting) (2.1.5)\n",
      "Requirement already satisfied: six>=1.5 in /Users/harrycslau/miniconda3/envs/fxlab/lib/python3.10/site-packages (from python-dateutil>=2.8.2->pandas!=0.25.0,>=0.25.0->lucit-backtesting) (1.16.0)\n"
     ]
    }
   ],
   "source": [
    "!pip uninstall lucit-backtesting\n",
    "!pip install lucit-backtesting"
   ]
  },
  {
   "cell_type": "code",
   "execution_count": null,
   "metadata": {},
   "outputs": [],
   "source": [
    "import pandas as pd\n",
    "from backtesting import Backtest, Strategy"
   ]
  },
  {
   "cell_type": "code",
   "execution_count": 10,
   "metadata": {},
   "outputs": [
    {
     "name": "stdout",
     "output_type": "stream",
     "text": [
      "2024-10-04 12:45:00: Buy at 2642.644, SL: 2639.6683854166663, TP: 2648.5952291666663\n",
      "2024-10-04 12:50:00: Buy at 2636.405, SL: 2633.4293854166667, TP: 2642.3562291666667\n",
      "2024-10-07 12:45:00: Buy at 2640.885, SL: 2637.138447916667, TP: 2648.378104166667\n",
      "2024-10-13 22:20:00: Buy at 2649.934, SL: 2647.2303020833333, TP: 2655.3413958333335\n",
      "2024-11-05 02:50:00: Buy at 2726.285, SL: 2723.4636666666665, TP: 2731.9276666666665\n",
      "2024-11-06 00:35:00: Buy at 2738.155, SL: 2735.248916666667, TP: 2743.967166666667\n",
      "2024-11-06 06:40:00: Buy at 2704.155, SL: 2700.18528125, TP: 2712.0944375000004\n",
      "2024-11-07 01:30:00: Buy at 2647.155, SL: 2640.8216145833335, TP: 2659.8217708333336\n",
      "2024-11-11 01:25:00: Buy at 2675.595, SL: 2672.0467604166665, TP: 2682.6914791666663\n",
      "2024-11-13 01:25:00: Sell at 2608.135, SL: 2612.2138750000004, TP: 2599.9772500000004\n",
      "Start                     2024-09-25 11:00:00\n",
      "End                       2024-11-22 21:30:00\n",
      "Duration                     58 days 10:30:00\n",
      "Exposure Time [%]                    0.540669\n",
      "Equity Final [$]                  9883.179665\n",
      "Equity Peak [$]                       10000.0\n",
      "Return [%]                          -1.168203\n",
      "Buy & Hold Return [%]                2.016098\n",
      "Return (Ann.) [%]                   -7.011621\n",
      "Volatility (Ann.) [%]                 1.68026\n",
      "Sharpe Ratio                        -4.172937\n",
      "Sortino Ratio                       -4.036102\n",
      "Calmar Ratio                        -6.002055\n",
      "Max. Drawdown [%]                   -1.168203\n",
      "Avg. Drawdown [%]                   -1.168203\n",
      "Max. Drawdown Duration       49 days 08:45:00\n",
      "Avg. Drawdown Duration       49 days 08:45:00\n",
      "# Trades                                   10\n",
      "Win Rate [%]                             40.0\n",
      "Best Trade [%]                       0.277192\n",
      "Worst Trade [%]                     -0.357489\n",
      "Avg. Trade [%]                      -0.146676\n",
      "Max. Trade Duration           0 days 02:00:00\n",
      "Avg. Trade Duration           0 days 00:41:00\n",
      "Profit Factor                         0.23957\n",
      "Expectancy [%]                      -0.146427\n",
      "SQN                                 -1.968912\n",
      "Kelly Criterion                      -1.26717\n",
      "_strategy                      CustomStrategy\n",
      "_equity_curve                             ...\n",
      "_trades                      Size  EntryBa...\n",
      "dtype: object\n"
     ]
    },
    {
     "name": "stderr",
     "output_type": "stream",
     "text": [
      "/Users/harrycslau/miniconda3/envs/fxlab/lib/python3.10/site-packages/backtesting/_plotting.py:122: UserWarning: Data contains too many candlesticks to plot; downsampling to '10T'. See `Backtest.plot(resample=...)`\n",
      "  warnings.warn(f\"Data contains too many candlesticks to plot; downsampling to {freq!r}. \"\n",
      "/Users/harrycslau/miniconda3/envs/fxlab/lib/python3.10/site-packages/backtesting/_plotting.py:126: FutureWarning: 'T' is deprecated and will be removed in a future version, please use 'min' instead.\n",
      "  df = df.resample(freq, label='right').agg(OHLCV_AGG).dropna()\n",
      "/Users/harrycslau/miniconda3/envs/fxlab/lib/python3.10/site-packages/backtesting/_plotting.py:136: FutureWarning: 'T' is deprecated and will be removed in a future version, please use 'min' instead.\n",
      "  equity_data = equity_data.resample(freq, label='right').agg(_EQUITY_AGG).dropna(how='all')\n",
      "/Users/harrycslau/miniconda3/envs/fxlab/lib/python3.10/site-packages/backtesting/_plotting.py:153: FutureWarning: 'T' is deprecated and will be removed in a future version, please use 'min' instead.\n",
      "  trades = trades.assign(count=1).resample(freq, on='ExitTime', label='right').agg(dict(\n",
      "/Users/harrycslau/miniconda3/envs/fxlab/lib/python3.10/site-packages/backtesting/_plotting.py:147: FutureWarning: Series.view is deprecated and will be removed in a future version. Use ``astype`` as an alternative to change the dtype.\n",
      "  mean_time = int(bars.loc[s.index].view('int64').mean())\n",
      "/Users/harrycslau/miniconda3/envs/fxlab/lib/python3.10/site-packages/backtesting/_plotting.py:147: FutureWarning: Series.view is deprecated and will be removed in a future version. Use ``astype`` as an alternative to change the dtype.\n",
      "  mean_time = int(bars.loc[s.index].view('int64').mean())\n",
      "/Users/harrycslau/miniconda3/envs/fxlab/lib/python3.10/site-packages/backtesting/_plotting.py:147: FutureWarning: Series.view is deprecated and will be removed in a future version. Use ``astype`` as an alternative to change the dtype.\n",
      "  mean_time = int(bars.loc[s.index].view('int64').mean())\n",
      "/Users/harrycslau/miniconda3/envs/fxlab/lib/python3.10/site-packages/backtesting/_plotting.py:147: FutureWarning: Series.view is deprecated and will be removed in a future version. Use ``astype`` as an alternative to change the dtype.\n",
      "  mean_time = int(bars.loc[s.index].view('int64').mean())\n",
      "/Users/harrycslau/miniconda3/envs/fxlab/lib/python3.10/site-packages/backtesting/_plotting.py:147: FutureWarning: Series.view is deprecated and will be removed in a future version. Use ``astype`` as an alternative to change the dtype.\n",
      "  mean_time = int(bars.loc[s.index].view('int64').mean())\n",
      "/Users/harrycslau/miniconda3/envs/fxlab/lib/python3.10/site-packages/backtesting/_plotting.py:147: FutureWarning: Series.view is deprecated and will be removed in a future version. Use ``astype`` as an alternative to change the dtype.\n",
      "  mean_time = int(bars.loc[s.index].view('int64').mean())\n",
      "/Users/harrycslau/miniconda3/envs/fxlab/lib/python3.10/site-packages/backtesting/_plotting.py:147: FutureWarning: Series.view is deprecated and will be removed in a future version. Use ``astype`` as an alternative to change the dtype.\n",
      "  mean_time = int(bars.loc[s.index].view('int64').mean())\n",
      "/Users/harrycslau/miniconda3/envs/fxlab/lib/python3.10/site-packages/backtesting/_plotting.py:147: FutureWarning: Series.view is deprecated and will be removed in a future version. Use ``astype`` as an alternative to change the dtype.\n",
      "  mean_time = int(bars.loc[s.index].view('int64').mean())\n",
      "/Users/harrycslau/miniconda3/envs/fxlab/lib/python3.10/site-packages/backtesting/_plotting.py:147: FutureWarning: Series.view is deprecated and will be removed in a future version. Use ``astype`` as an alternative to change the dtype.\n",
      "  mean_time = int(bars.loc[s.index].view('int64').mean())\n",
      "/Users/harrycslau/miniconda3/envs/fxlab/lib/python3.10/site-packages/backtesting/_plotting.py:147: FutureWarning: Series.view is deprecated and will be removed in a future version. Use ``astype`` as an alternative to change the dtype.\n",
      "  mean_time = int(bars.loc[s.index].view('int64').mean())\n",
      "/Users/harrycslau/miniconda3/envs/fxlab/lib/python3.10/site-packages/backtesting/_plotting.py:147: FutureWarning: Series.view is deprecated and will be removed in a future version. Use ``astype`` as an alternative to change the dtype.\n",
      "  mean_time = int(bars.loc[s.index].view('int64').mean())\n",
      "/Users/harrycslau/miniconda3/envs/fxlab/lib/python3.10/site-packages/backtesting/_plotting.py:147: FutureWarning: Series.view is deprecated and will be removed in a future version. Use ``astype`` as an alternative to change the dtype.\n",
      "  mean_time = int(bars.loc[s.index].view('int64').mean())\n",
      "/Users/harrycslau/miniconda3/envs/fxlab/lib/python3.10/site-packages/backtesting/_plotting.py:147: FutureWarning: Series.view is deprecated and will be removed in a future version. Use ``astype`` as an alternative to change the dtype.\n",
      "  mean_time = int(bars.loc[s.index].view('int64').mean())\n",
      "/Users/harrycslau/miniconda3/envs/fxlab/lib/python3.10/site-packages/backtesting/_plotting.py:147: FutureWarning: Series.view is deprecated and will be removed in a future version. Use ``astype`` as an alternative to change the dtype.\n",
      "  mean_time = int(bars.loc[s.index].view('int64').mean())\n",
      "/Users/harrycslau/miniconda3/envs/fxlab/lib/python3.10/site-packages/backtesting/_plotting.py:147: FutureWarning: Series.view is deprecated and will be removed in a future version. Use ``astype`` as an alternative to change the dtype.\n",
      "  mean_time = int(bars.loc[s.index].view('int64').mean())\n",
      "/Users/harrycslau/miniconda3/envs/fxlab/lib/python3.10/site-packages/backtesting/_plotting.py:147: FutureWarning: Series.view is deprecated and will be removed in a future version. Use ``astype`` as an alternative to change the dtype.\n",
      "  mean_time = int(bars.loc[s.index].view('int64').mean())\n",
      "/Users/harrycslau/miniconda3/envs/fxlab/lib/python3.10/site-packages/backtesting/_plotting.py:147: FutureWarning: Series.view is deprecated and will be removed in a future version. Use ``astype`` as an alternative to change the dtype.\n",
      "  mean_time = int(bars.loc[s.index].view('int64').mean())\n",
      "/Users/harrycslau/miniconda3/envs/fxlab/lib/python3.10/site-packages/backtesting/_plotting.py:147: FutureWarning: Series.view is deprecated and will be removed in a future version. Use ``astype`` as an alternative to change the dtype.\n",
      "  mean_time = int(bars.loc[s.index].view('int64').mean())\n",
      "/Users/harrycslau/miniconda3/envs/fxlab/lib/python3.10/site-packages/backtesting/_plotting.py:455: FutureWarning: 'H' is deprecated and will be removed in a future version, please use 'h' instead.\n",
      "  df2 = (df.assign(_width=1).set_index('datetime')\n"
     ]
    },
    {
     "data": {
      "text/html": [
       "<div style=\"display: table;\"><div style=\"display: table-row;\"><div style=\"display: table-cell;\"><b title=\"bokeh.models.layouts.Row\">Row</b>(</div><div style=\"display: table-cell;\">id&nbsp;=&nbsp;'4838', <span id=\"5361\" style=\"cursor: pointer;\">&hellip;)</span></div></div><div class=\"5360\" style=\"display: none;\"><div style=\"display: table-cell;\"></div><div style=\"display: table-cell;\">align&nbsp;=&nbsp;'start',</div></div><div class=\"5360\" style=\"display: none;\"><div style=\"display: table-cell;\"></div><div style=\"display: table-cell;\">aspect_ratio&nbsp;=&nbsp;None,</div></div><div class=\"5360\" style=\"display: none;\"><div style=\"display: table-cell;\"></div><div style=\"display: table-cell;\">background&nbsp;=&nbsp;None,</div></div><div class=\"5360\" style=\"display: none;\"><div style=\"display: table-cell;\"></div><div style=\"display: table-cell;\">children&nbsp;=&nbsp;[GridBox(id='4835', ...), ToolbarBox(id='4837', ...)],</div></div><div class=\"5360\" style=\"display: none;\"><div style=\"display: table-cell;\"></div><div style=\"display: table-cell;\">cols&nbsp;=&nbsp;'auto',</div></div><div class=\"5360\" style=\"display: none;\"><div style=\"display: table-cell;\"></div><div style=\"display: table-cell;\">css_classes&nbsp;=&nbsp;[],</div></div><div class=\"5360\" style=\"display: none;\"><div style=\"display: table-cell;\"></div><div style=\"display: table-cell;\">disabled&nbsp;=&nbsp;False,</div></div><div class=\"5360\" style=\"display: none;\"><div style=\"display: table-cell;\"></div><div style=\"display: table-cell;\">height&nbsp;=&nbsp;None,</div></div><div class=\"5360\" style=\"display: none;\"><div style=\"display: table-cell;\"></div><div style=\"display: table-cell;\">height_policy&nbsp;=&nbsp;'auto',</div></div><div class=\"5360\" style=\"display: none;\"><div style=\"display: table-cell;\"></div><div style=\"display: table-cell;\">js_event_callbacks&nbsp;=&nbsp;{},</div></div><div class=\"5360\" style=\"display: none;\"><div style=\"display: table-cell;\"></div><div style=\"display: table-cell;\">js_property_callbacks&nbsp;=&nbsp;{},</div></div><div class=\"5360\" style=\"display: none;\"><div style=\"display: table-cell;\"></div><div style=\"display: table-cell;\">margin&nbsp;=&nbsp;(0, 0, 0, 0),</div></div><div class=\"5360\" style=\"display: none;\"><div style=\"display: table-cell;\"></div><div style=\"display: table-cell;\">max_height&nbsp;=&nbsp;None,</div></div><div class=\"5360\" style=\"display: none;\"><div style=\"display: table-cell;\"></div><div style=\"display: table-cell;\">max_width&nbsp;=&nbsp;None,</div></div><div class=\"5360\" style=\"display: none;\"><div style=\"display: table-cell;\"></div><div style=\"display: table-cell;\">min_height&nbsp;=&nbsp;None,</div></div><div class=\"5360\" style=\"display: none;\"><div style=\"display: table-cell;\"></div><div style=\"display: table-cell;\">min_width&nbsp;=&nbsp;None,</div></div><div class=\"5360\" style=\"display: none;\"><div style=\"display: table-cell;\"></div><div style=\"display: table-cell;\">name&nbsp;=&nbsp;None,</div></div><div class=\"5360\" style=\"display: none;\"><div style=\"display: table-cell;\"></div><div style=\"display: table-cell;\">sizing_mode&nbsp;=&nbsp;'stretch_width',</div></div><div class=\"5360\" style=\"display: none;\"><div style=\"display: table-cell;\"></div><div style=\"display: table-cell;\">spacing&nbsp;=&nbsp;0,</div></div><div class=\"5360\" style=\"display: none;\"><div style=\"display: table-cell;\"></div><div style=\"display: table-cell;\">subscribed_events&nbsp;=&nbsp;[],</div></div><div class=\"5360\" style=\"display: none;\"><div style=\"display: table-cell;\"></div><div style=\"display: table-cell;\">syncable&nbsp;=&nbsp;True,</div></div><div class=\"5360\" style=\"display: none;\"><div style=\"display: table-cell;\"></div><div style=\"display: table-cell;\">tags&nbsp;=&nbsp;[],</div></div><div class=\"5360\" style=\"display: none;\"><div style=\"display: table-cell;\"></div><div style=\"display: table-cell;\">visible&nbsp;=&nbsp;True,</div></div><div class=\"5360\" style=\"display: none;\"><div style=\"display: table-cell;\"></div><div style=\"display: table-cell;\">width&nbsp;=&nbsp;None,</div></div><div class=\"5360\" style=\"display: none;\"><div style=\"display: table-cell;\"></div><div style=\"display: table-cell;\">width_policy&nbsp;=&nbsp;'auto')</div></div></div>\n",
       "<script>\n",
       "(function() {\n",
       "  let expanded = false;\n",
       "  const ellipsis = document.getElementById(\"5361\");\n",
       "  ellipsis.addEventListener(\"click\", function() {\n",
       "    const rows = document.getElementsByClassName(\"5360\");\n",
       "    for (let i = 0; i < rows.length; i++) {\n",
       "      const el = rows[i];\n",
       "      el.style.display = expanded ? \"none\" : \"table-row\";\n",
       "    }\n",
       "    ellipsis.innerHTML = expanded ? \"&hellip;)\" : \"&lsaquo;&lsaquo;&lsaquo;\";\n",
       "    expanded = !expanded;\n",
       "  });\n",
       "})();\n",
       "</script>\n"
      ],
      "text/plain": [
       "Row(id='4838', ...)"
      ]
     },
     "execution_count": 10,
     "metadata": {},
     "output_type": "execute_result"
    }
   ],
   "source": [
    "class CustomStrategy(Strategy):\n",
    "    def init(self):\n",
    "        # RSI and ATR96 values are already in the data\n",
    "        self.tfo = self.data.TFO\n",
    "        self.tfodiff = self.data.TFO_diff\n",
    "        self.atr96 = self.data.atr96\n",
    "    \n",
    "    def next(self):\n",
    "        # Entry Logic\n",
    "        if not self.position:\n",
    "            if self.data.TFO[-1] < -2.5 and self.data.TFO_diff[-1] > 0.1:\n",
    "                entry_price = self.data.Close[-1]\n",
    "                sl_price = entry_price - 1 * self.data.atr96[-1]\n",
    "                tp_price = entry_price + 2 * self.data.atr96[-1]\n",
    "                print(f'{self.data.index[-1]}: Buy at {entry_price}, SL: {sl_price}, TP: {tp_price}')\n",
    "                self.buy(sl=sl_price, tp=tp_price)\n",
    "            elif self.data.TFO[-1] > 2.5 and self.data.TFO_diff[-1] < -0.1:\n",
    "                entry_price = self.data.Close[-1]\n",
    "                sl_price = entry_price + 1 * self.data.atr96[-1]\n",
    "                tp_price = entry_price - 2 * self.data.atr96[-1]\n",
    "                print(f'{self.data.index[-1]}: Sell at {entry_price}, SL: {sl_price}, TP: {tp_price}')\n",
    "                self.sell(sl=sl_price, tp=tp_price)\n",
    "        else:\n",
    "            pass\n",
    "\n",
    "# Reading preprocessed raw data\n",
    "data = pd.read_csv('backtest_results/XAUUSD_M5_btdata.csv', parse_dates=['DateTime'], index_col='DateTime')\n",
    "\n",
    "# Run the backtest\n",
    "bt = Backtest(data, CustomStrategy, cash=10000, commission=0.002)\n",
    "results = bt.run()\n",
    "\n",
    "# Print results\n",
    "print(results)\n",
    "\n",
    "# Plot results\n",
    "bt.plot()"
   ]
  },
  {
   "cell_type": "code",
   "execution_count": null,
   "metadata": {},
   "outputs": [],
   "source": [
    "print(data.head())\n",
    "print(data.columns)\n"
   ]
  },
  {
   "cell_type": "code",
   "execution_count": null,
   "metadata": {},
   "outputs": [],
   "source": []
  }
 ],
 "metadata": {
  "kernelspec": {
   "display_name": "fxlab",
   "language": "python",
   "name": "python3"
  },
  "language_info": {
   "codemirror_mode": {
    "name": "ipython",
    "version": 3
   },
   "file_extension": ".py",
   "mimetype": "text/x-python",
   "name": "python",
   "nbconvert_exporter": "python",
   "pygments_lexer": "ipython3",
   "version": "3.10.13"
  }
 },
 "nbformat": 4,
 "nbformat_minor": 2
}
