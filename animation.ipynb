{
 "cells": [
  {
   "cell_type": "code",
   "execution_count": 1,
   "metadata": {},
   "outputs": [
    {
     "name": "stdout",
     "output_type": "stream",
     "text": [
      "Collecting opencv-python\n",
      "  Downloading opencv_python-4.10.0.84-cp37-abi3-macosx_11_0_arm64.whl.metadata (20 kB)\n",
      "Requirement already satisfied: numpy>=1.21.2 in /Users/harrycslau/miniconda3/envs/fxlab/lib/python3.10/site-packages (from opencv-python) (1.26.4)\n",
      "Downloading opencv_python-4.10.0.84-cp37-abi3-macosx_11_0_arm64.whl (54.8 MB)\n",
      "\u001b[2K   \u001b[90m━━━━━━━━━━━━━━━━━━━━━━━━━━━━━━━━━━━━━━━━\u001b[0m \u001b[32m54.8/54.8 MB\u001b[0m \u001b[31m1.4 MB/s\u001b[0m eta \u001b[36m0:00:00\u001b[0m00:01\u001b[0m00:01\u001b[0m\n",
      "\u001b[?25hInstalling collected packages: opencv-python\n",
      "Successfully installed opencv-python-4.10.0.84\n"
     ]
    }
   ],
   "source": [
    "#!pip install opencv-python"
   ]
  },
  {
   "cell_type": "code",
   "execution_count": 18,
   "metadata": {},
   "outputs": [
    {
     "name": "stderr",
     "output_type": "stream",
     "text": [
      "OpenCV: FFMPEG: tag 0x34363258/'X264' is not supported with codec id 27 and format 'mp4 / MP4 (MPEG-4 Part 14)'\n",
      "OpenCV: FFMPEG: fallback to use tag 0x31637661/'avc1'\n"
     ]
    },
    {
     "name": "stdout",
     "output_type": "stream",
     "text": [
      "Animation saved as animation-240-60.mp4\n"
     ]
    }
   ],
   "source": [
    "import cv2\n",
    "import glob\n",
    "import re\n",
    "\n",
    "# Define the variables for the length and harmonics\n",
    "length = 240\n",
    "harmonics = 60\n",
    "\n",
    "# Path to the directory containing the PNG files\n",
    "image_folder = './forecast_plots/'\n",
    "\n",
    "# Function to extract the numeric part from the filename for sorting\n",
    "def extract_number(filename):\n",
    "    # Search for numbers in the filename (after 'run_')\n",
    "    match = re.search(r'_run_(\\d+)', filename)\n",
    "    return int(match.group(1)) if match else -1\n",
    "\n",
    "# Get all PNG files using the length and harmonics variables\n",
    "images = glob.glob(f'{image_folder}seasonal_length_{length}_harmonics_{harmonics}_run*.png')\n",
    "\n",
    "# Sort by the numeric part extracted from the filenames\n",
    "images = sorted(images, key=extract_number, reverse=True)\n",
    "\n",
    "# Get the dimensions of the first image\n",
    "frame = cv2.imread(images[0])\n",
    "height, width, layers = frame.shape\n",
    "\n",
    "# Define the codec and create the VideoWriter object\n",
    "fourcc = cv2.VideoWriter_fourcc(*'X264')  # H.264 codec for MP4\n",
    "output_file = f'animation-{length}-{harmonics}.mp4'  # Use variables in the filename\n",
    "out = cv2.VideoWriter(output_file, fourcc, 2, (width, height))  # 2 FPS\n",
    "\n",
    "# Loop through images and add them to the video\n",
    "for image in images:\n",
    "    frame = cv2.imread(image)\n",
    "    out.write(frame)\n",
    "\n",
    "# Release the VideoWriter\n",
    "out.release()\n",
    "\n",
    "print(f'Animation saved as {output_file}')"
   ]
  },
  {
   "cell_type": "code",
   "execution_count": 21,
   "metadata": {},
   "outputs": [
    {
     "name": "stdout",
     "output_type": "stream",
     "text": [
      "ffmpeg version 7.0.1 Copyright (c) 2000-2024 the FFmpeg developers\n",
      "  built with Apple clang version 15.0.0 (clang-1500.1.0.2.5)\n",
      "  configuration: --prefix=/opt/homebrew/Cellar/ffmpeg/7.0.1 --enable-shared --enable-pthreads --enable-version3 --cc=clang --host-cflags= --host-ldflags='-Wl,-ld_classic' --enable-ffplay --enable-gnutls --enable-gpl --enable-libaom --enable-libaribb24 --enable-libbluray --enable-libdav1d --enable-libharfbuzz --enable-libjxl --enable-libmp3lame --enable-libopus --enable-librav1e --enable-librist --enable-librubberband --enable-libsnappy --enable-libsrt --enable-libssh --enable-libsvtav1 --enable-libtesseract --enable-libtheora --enable-libvidstab --enable-libvmaf --enable-libvorbis --enable-libvpx --enable-libwebp --enable-libx264 --enable-libx265 --enable-libxml2 --enable-libxvid --enable-lzma --enable-libfontconfig --enable-libfreetype --enable-frei0r --enable-libass --enable-libopencore-amrnb --enable-libopencore-amrwb --enable-libopenjpeg --enable-libspeex --enable-libsoxr --enable-libzmq --enable-libzimg --disable-libjack --disable-indev=jack --enable-videotoolbox --enable-audiotoolbox --enable-neon\n",
      "  libavutil      59.  8.100 / 59.  8.100\n",
      "  libavcodec     61.  3.100 / 61.  3.100\n",
      "  libavformat    61.  1.100 / 61.  1.100\n",
      "  libavdevice    61.  1.100 / 61.  1.100\n",
      "  libavfilter    10.  1.100 / 10.  1.100\n",
      "  libswscale      8.  1.100 /  8.  1.100\n",
      "  libswresample   5.  1.100 /  5.  1.100\n",
      "  libpostproc    58.  1.100 / 58.  1.100\n",
      "Input #0, mov,mp4,m4a,3gp,3g2,mj2, from 'animation-240-60.mp4':\n",
      "  Metadata:\n",
      "    major_brand     : isom\n",
      "    minor_version   : 512\n",
      "    compatible_brands: isomiso2avc1mp41\n",
      "    encoder         : Lavf60.3.100\n",
      "  Duration: 00:00:15.00, start: 0.000000, bitrate: 400 kb/s\n",
      "  Stream #0:0[0x1](und): Video: h264 (High) (avc1 / 0x31637661), yuv420p(progressive), 1200x600, 400 kb/s, 2 fps, 2 tbr, 16384 tbn (default)\n",
      "      Metadata:\n",
      "        handler_name    : VideoHandler\n",
      "        vendor_id       : [0][0][0][0]\n",
      "Input #1, lavfi, from 'anullsrc=channel_layout=stereo:sample_rate=44100':\n",
      "  Duration: N/A, start: 0.000000, bitrate: 705 kb/s\n",
      "  Stream #1:0: Audio: pcm_u8, 44100 Hz, stereo, u8, 705 kb/s\n",
      "Stream mapping:\n",
      "  Stream #0:0 -> #0:0 (copy)\n",
      "  Stream #1:0 -> #0:1 (pcm_u8 (native) -> aac (native))\n",
      "Press [q] to stop, [?] for help\n",
      "Output #0, mp4, to 'animation-240-60_temp.mp4':\n",
      "  Metadata:\n",
      "    major_brand     : isom\n",
      "    minor_version   : 512\n",
      "    compatible_brands: isomiso2avc1mp41\n",
      "    encoder         : Lavf61.1.100\n",
      "  Stream #0:0(und): Video: h264 (High) (avc1 / 0x31637661), yuv420p(progressive), 1200x600, q=2-31, 400 kb/s, 2 fps, 2 tbr, 16384 tbn (default)\n",
      "      Metadata:\n",
      "        handler_name    : VideoHandler\n",
      "        vendor_id       : [0][0][0][0]\n",
      "  Stream #0:1: Audio: aac (LC) (mp4a / 0x6134706D), 44100 Hz, stereo, fltp, 128 kb/s\n",
      "      Metadata:\n",
      "        encoder         : Lavc61.3.100 aac\n",
      "\u001b[1;35m[out#0/mp4 @ 0x126e2a310] \u001b[0mvideo:733KiB audio:4KiB subtitle:0KiB other streams:0KiB global headers:0KiB muxing overhead: 0.650329%\n",
      "size=     741KiB time=00:00:14.00 bitrate= 433.7kbits/s speed= 181x    \n",
      "\u001b[1;36m[aac @ 0x126f10e20] \u001b[0mQavg: 65536.000\n",
      "Animation with audio saved as animation-240-60.mp4\n"
     ]
    }
   ],
   "source": [
    "import os\n",
    "\n",
    "# Add audio to prevent Telegram treating the video as a GIF\n",
    "# Output to a temporary file and then replace the original file\n",
    "temp_output_file = f'{output_file[:-4]}_temp.mp4'\n",
    "\n",
    "# Use ffmpeg to add audio to the temporary file\n",
    "!ffmpeg -y -i {output_file} -f lavfi -i anullsrc=channel_layout=stereo:sample_rate=44100 -shortest -c:v copy -c:a aac -strict experimental {temp_output_file}\n",
    "\n",
    "# Replace the original file with the temp file\n",
    "os.replace(temp_output_file, output_file)\n",
    "\n",
    "print(f'Animation with audio saved as {output_file}')"
   ]
  },
  {
   "cell_type": "code",
   "execution_count": null,
   "metadata": {},
   "outputs": [],
   "source": []
  }
 ],
 "metadata": {
  "kernelspec": {
   "display_name": "fxlab",
   "language": "python",
   "name": "python3"
  },
  "language_info": {
   "codemirror_mode": {
    "name": "ipython",
    "version": 3
   },
   "file_extension": ".py",
   "mimetype": "text/x-python",
   "name": "python",
   "nbconvert_exporter": "python",
   "pygments_lexer": "ipython3",
   "version": "3.10.13"
  }
 },
 "nbformat": 4,
 "nbformat_minor": 2
}
